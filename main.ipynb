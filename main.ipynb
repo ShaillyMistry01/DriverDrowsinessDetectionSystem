{
 "cells": [
  {
   "cell_type": "code",
   "execution_count": 1,
   "id": "dbfb6c88",
   "metadata": {},
   "outputs": [
    {
     "name": "stdout",
     "output_type": "stream",
     "text": [
      "pygame 2.1.0 (SDL 2.0.16, Python 3.8.8)\n",
      "Hello from the pygame community. https://www.pygame.org/contribute.html\n"
     ]
    }
   ],
   "source": [
    "import cv2\n",
    "import tensorflow as tf\n",
    "from tensorflow.keras.models import load_model\n",
    "import numpy as np\n",
    "from pygame import mixer"
   ]
  },
  {
   "cell_type": "code",
   "execution_count": 2,
   "id": "3a9bfbc0",
   "metadata": {},
   "outputs": [],
   "source": [
    "face_cascade = cv2.CascadeClassifier(cv2.data.haarcascades + 'haarcascade_frontalface_default.xml')\n",
    "eye_cascade = cv2.CascadeClassifier(cv2.data.haarcascades + 'haarcascade_eye.xml')\n",
    "model = load_model(r'D:\\AI Project\\Drowsiness detection Code\\Drowsiness detection\\models\\model.h5')"
   ]
  },
  {
   "cell_type": "code",
   "execution_count": 1,
   "id": "1afcbb6c",
   "metadata": {},
   "outputs": [
    {
     "ename": "IndentationError",
     "evalue": "expected an indented block (<ipython-input-1-be54ec4b27c8>, line 19)",
     "output_type": "error",
     "traceback": [
      "\u001b[1;36m  File \u001b[1;32m\"<ipython-input-1-be54ec4b27c8>\"\u001b[1;36m, line \u001b[1;32m19\u001b[0m\n\u001b[1;33m    for (ex,ey,ew,eh) in eyes:\u001b[0m\n\u001b[1;37m    ^\u001b[0m\n\u001b[1;31mIndentationError\u001b[0m\u001b[1;31m:\u001b[0m expected an indented block\n"
     ]
    }
   ],
   "source": [
    "mixer.init()\n",
    "sound=mixer.Sound(r'D:\\AI Project\\Drowsiness detection Code\\Drowsiness detection\\alarm.wav')\n",
    "\n",
    "cap = cv2.VideoCapture(0)\n",
    "score = 0\n",
    "while True:\n",
    "    ret, frame = cap.read()\n",
    "    height,width = frame.shape[0:2]\n",
    "    gray = cv2.cvtColor(frame, cv2.COLOR_BGR2GRAY)\n",
    "    faces = face_cascade.detectMultiScale(gray, scaleFactor=1.2, minNeighbors=3)\n",
    "    eyes = eye_cascade.detectMultiScale(gray, scaleFactor=1.2, minNeighbors=3)\n",
    "    \n",
    "    \n",
    "    #cv2.rectangle(frame, (0,height-50),(200,height),(0,0,0),thickness=cv2.FILLED)\n",
    "    \n",
    "    for (x,y,w,h) in faces:\n",
    "        #cv2.rectangle(frame,pt1=(x,y),pt2=(x+w,y+h), color=(255,0,0), thickness=3 )\n",
    "    \n",
    "    for (ex,ey,ew,eh) in eyes:\n",
    "        #cv2.rectangle(frame,pt1=(ex,ey),pt2=(ex+ew,ey+eh), color=(255,0,0), thickness=3 )\n",
    "        \n",
    "        #preprocessing steps\n",
    "        eye= frame[ey:ey+eh,ex:ex+w]\n",
    "        eye= cv2.resize(eye,(80,80))\n",
    "        eye= eye/255\n",
    "        eye= eye.reshape(80,80,3)\n",
    "        eye= np.expand_dims(eye,axis=0)\n",
    "        \n",
    "        #preprocessing is done now model prediction\n",
    "        \n",
    "        #if eyes are closed\n",
    "        prediction = model.predict(eye)\n",
    "        if prediction[0][0]>0.30:\n",
    "            cv2.putText(frame,'closed',(10,height-20),fontFace=cv2.FONT_HERSHEY_COMPLEX_SMALL,fontScale=1,\n",
    "                        color = (255,255,255),thickness=1,lineType=cv2.LINE_AA)\n",
    "            \n",
    "            cv2.putText(frame,'Score'+str(score),(100,height-20),fontFace=cv2.FONT_HERSHEY_COMPLEX_SMALL,fontScale=1,\n",
    "                        color = (255,255,255),thickness=1,lineType=cv2.LINE_AA)\n",
    "            score=score+1\n",
    "            if(score>15):\n",
    "                try:\n",
    "                    sound.play()\n",
    "                except:\n",
    "                    pass\n",
    "                \n",
    "        #if eyes are open\n",
    "        elif prediction[0][1]>0.90:\n",
    "            cv2.putText(frame,'open',(10,height-20),fontFace=cv2.FONT_HERSHEY_COMPLEX_SMALL,fontScale=1,\n",
    "                        color=(255,255,255),thickness=1,lineType=cv2.LINE_AA)\n",
    "            \n",
    "            cv2.putText(frame,'Score'+str(score),(100,height-20),fontFace=cv2.FONT_HERSHEY_COMPLEX_SMALL,fontScale=1,\n",
    "                        color = (255,255,255),thickness=1,lineType=cv2.LINE_AA)\n",
    "            \n",
    "            score = score-1\n",
    "            if(score<0):\n",
    "                score=0\n",
    "    \n",
    "    \n",
    "    \n",
    "    cv2.imshow('frame',frame)\n",
    "    if cv2.waitKey(33) & 0xFF==ord('q'):\n",
    "        break\n",
    "    \n",
    "cap.release()\n",
    "cv2.destroyAllWindows()"
   ]
  },
  {
   "cell_type": "code",
   "execution_count": null,
   "id": "b3910763",
   "metadata": {},
   "outputs": [],
   "source": []
  },
  {
   "cell_type": "code",
   "execution_count": null,
   "id": "89f0cb01",
   "metadata": {},
   "outputs": [],
   "source": []
  }
 ],
 "metadata": {
  "kernelspec": {
   "display_name": "Python 3",
   "language": "python",
   "name": "python3"
  },
  "language_info": {
   "codemirror_mode": {
    "name": "ipython",
    "version": 3
   },
   "file_extension": ".py",
   "mimetype": "text/x-python",
   "name": "python",
   "nbconvert_exporter": "python",
   "pygments_lexer": "ipython3",
   "version": "3.8.8"
  }
 },
 "nbformat": 4,
 "nbformat_minor": 5
}
